{
 "cells": [
  {
   "cell_type": "code",
   "execution_count": 5,
   "id": "2cdd97de",
   "metadata": {},
   "outputs": [],
   "source": [
    "import numpy as np \n",
    "import pandas as pd \n",
    "import matplotlib.pyplot as plt\n",
    "import cv2\n",
    "import tensorflow as tf\n",
    "from PIL import Image\n",
    "import os\n",
    "from sklearn.model_selection import train_test_split\n",
    "from tensorflow.keras.utils import to_categorical\n",
    "from keras.models import Sequential, load_model\n",
    "from keras.layers import Conv2D, MaxPool2D, Dense, Flatten, Dropout"
   ]
  },
  {
   "cell_type": "code",
   "execution_count": 6,
   "id": "198eb531",
   "metadata": {},
   "outputs": [],
   "source": [
    "data = []\n",
    "labels = []\n",
    "classes = 43\n",
    "current_path = os.getcwd()"
   ]
  },
  {
   "cell_type": "code",
   "execution_count": 7,
   "id": "41a5359d",
   "metadata": {},
   "outputs": [],
   "source": [
    "current_path = \"\""
   ]
  },
  {
   "cell_type": "code",
   "execution_count": 8,
   "id": "eb7446d6",
   "metadata": {},
   "outputs": [],
   "source": [
    "for cls in range(classes):\n",
    "    path = os.path.join(current_path,'train',str(cls))\n",
    "    images = os.listdir(path)\n",
    "\n",
    "    for im in images:\n",
    "        try:\n",
    "            image = Image.open(path + '/'+ im)\n",
    "            image = image.resize((30,30))\n",
    "            image = np.array(image)\n",
    "            \n",
    "            data.append(image)\n",
    "            labels.append(cls)\n",
    "        except:\n",
    "            print(\"Error loading image\")"
   ]
  },
  {
   "cell_type": "code",
   "execution_count": 9,
   "id": "c1e9e996",
   "metadata": {},
   "outputs": [],
   "source": [
    "data = np.array(data)\n",
    "labels = np.array(labels)"
   ]
  },
  {
   "cell_type": "code",
   "execution_count": 10,
   "id": "7b252d81",
   "metadata": {},
   "outputs": [
    {
     "name": "stdout",
     "output_type": "stream",
     "text": [
      "(39209, 30, 30, 3) (39209,)\n"
     ]
    }
   ],
   "source": [
    "print(data.shape, labels.shape)"
   ]
  },
  {
   "cell_type": "code",
   "execution_count": 11,
   "id": "defb00ee",
   "metadata": {},
   "outputs": [
    {
     "name": "stdout",
     "output_type": "stream",
     "text": [
      "(31367, 30, 30, 3) (7842, 30, 30, 3) (31367,) (7842,)\n"
     ]
    }
   ],
   "source": [
    "X_train, X_test, y_train, y_test = train_test_split(data, labels, test_size=0.2, random_state=42)\n",
    "\n",
    "print(X_train.shape, X_test.shape, y_train.shape, y_test.shape)\n",
    "\n",
    "y_train = to_categorical(y_train, 43)\n",
    "y_test = to_categorical(y_test, 43)"
   ]
  },
  {
   "cell_type": "code",
   "execution_count": 12,
   "id": "e6741006",
   "metadata": {},
   "outputs": [
    {
     "name": "stdout",
     "output_type": "stream",
     "text": [
      "WARNING:tensorflow:From C:\\Users\\afrim\\.conda\\envs\\tensorflow1\\lib\\site-packages\\keras\\backend\\tensorflow_backend.py:4070: The name tf.nn.max_pool is deprecated. Please use tf.nn.max_pool2d instead.\n",
      "\n",
      "WARNING:tensorflow:From C:\\Users\\afrim\\.conda\\envs\\tensorflow1\\lib\\site-packages\\keras\\backend\\tensorflow_backend.py:422: The name tf.global_variables is deprecated. Please use tf.compat.v1.global_variables instead.\n",
      "\n",
      "Train on 31367 samples, validate on 7842 samples\n",
      "Epoch 1/10\n",
      "31367/31367 [==============================] - 212s 7ms/step - loss: 2.1528 - accuracy: 0.4327 - val_loss: 0.7578 - val_accuracy: 0.8030\n",
      "Epoch 2/10\n",
      "31367/31367 [==============================] - 210s 7ms/step - loss: 0.9415 - accuracy: 0.7184 - val_loss: 0.4022 - val_accuracy: 0.8971\n",
      "Epoch 3/10\n",
      "31367/31367 [==============================] - 136s 4ms/step - loss: 0.6876 - accuracy: 0.7908 - val_loss: 0.2789 - val_accuracy: 0.9183\n",
      "Epoch 4/10\n",
      "31367/31367 [==============================] - 98s 3ms/step - loss: 0.5576 - accuracy: 0.8323 - val_loss: 0.2067 - val_accuracy: 0.9373\n",
      "Epoch 5/10\n",
      "31367/31367 [==============================] - 97s 3ms/step - loss: 0.4756 - accuracy: 0.8571 - val_loss: 0.1454 - val_accuracy: 0.9582\n",
      "Epoch 6/10\n",
      "31367/31367 [==============================] - 98s 3ms/step - loss: 0.4227 - accuracy: 0.8721 - val_loss: 0.1985 - val_accuracy: 0.9566\n",
      "Epoch 7/10\n",
      "31367/31367 [==============================] - 100s 3ms/step - loss: 0.3838 - accuracy: 0.8836 - val_loss: 0.1187 - val_accuracy: 0.9675\n",
      "Epoch 8/10\n",
      "31367/31367 [==============================] - 102s 3ms/step - loss: 0.3582 - accuracy: 0.8936 - val_loss: 0.1067 - val_accuracy: 0.9679\n",
      "Epoch 9/10\n",
      "31367/31367 [==============================] - 102s 3ms/step - loss: 0.3499 - accuracy: 0.8956 - val_loss: 0.0942 - val_accuracy: 0.9755\n",
      "Epoch 10/10\n",
      "31367/31367 [==============================] - 105s 3ms/step - loss: 0.3403 - accuracy: 0.8991 - val_loss: 0.0916 - val_accuracy: 0.9740\n"
     ]
    }
   ],
   "source": [
    "model = Sequential()\n",
    "\n",
    "model.add(Conv2D(filters=32, kernel_size=(5,5), activation='relu', input_shape=X_train.shape[1:]))\n",
    "model.add(Conv2D(filters=32, kernel_size=(5,5), activation='relu'))\n",
    "model.add(MaxPool2D(pool_size=(2, 2)))\n",
    "model.add(Dropout(rate=0.25))\n",
    "\n",
    "model.add(Conv2D(filters=64, kernel_size=(3, 3), activation='relu'))\n",
    "model.add(Conv2D(filters=64, kernel_size=(3, 3), activation='relu'))\n",
    "model.add(MaxPool2D(pool_size=(2, 2)))\n",
    "model.add(Dropout(rate=0.25))\n",
    "\n",
    "model.add(Flatten())\n",
    "model.add(Dense(256, activation='relu'))\n",
    "model.add(Dropout(rate=0.5))\n",
    "model.add(Dense(43, activation='softmax'))\n",
    "\n",
    "#Compilation of the model\n",
    "model.compile(loss='categorical_crossentropy', \n",
    "              optimizer='adam', \n",
    "              metrics=['accuracy'])\n",
    "\n",
    "epochs = 10\n",
    "history = model.fit(X_train, \n",
    "                    y_train, \n",
    "                    batch_size=32, \n",
    "                    epochs=epochs, \n",
    "                    validation_data=(X_test, y_test))\n"
   ]
  },
  {
   "cell_type": "code",
   "execution_count": 13,
   "id": "c0f0a770",
   "metadata": {},
   "outputs": [
    {
     "data": {
      "image/png": "[encoded data removed]",
      "text/plain": [
       "<Figure size 432x288 with 1 Axes>"
      ]
     },
     "metadata": {
      "needs_background": "light"
     },
     "output_type": "display_data"
    },
    {
     "data": {
      "image/png": "[encoded data removed]",
      "text/plain": [
       "<Figure size 432x288 with 1 Axes>"
      ]
     },
     "metadata": {
      "needs_background": "light"
     },
     "output_type": "display_data"
    }
   ],
   "source": [
    "plt.figure(0)\n",
    "plt.plot(history.history['accuracy'], label='training accuracy')\n",
    "plt.plot(history.history['val_accuracy'], label='val accuracy')\n",
    "plt.title('Accuracy')\n",
    "plt.xlabel('epochs')\n",
    "plt.ylabel('accuracy')\n",
    "plt.legend()\n",
    "plt.show()\n",
    "\n",
    "plt.figure(1)\n",
    "plt.plot(history.history['loss'], label='training loss')\n",
    "plt.plot(history.history['val_loss'], label='val loss')\n",
    "plt.title('Loss')\n",
    "plt.xlabel('epochs')\n",
    "plt.ylabel('loss')\n",
    "plt.legend()\n",
    "plt.show()"
   ]
  },
  {
   "cell_type": "code",
   "execution_count": 27,
   "id": "84452bb3",
   "metadata": {},
   "outputs": [
    {
     "name": "stdout",
     "output_type": "stream",
     "text": [
      "Train accuracy: 0.9783849120140076\n"
     ]
    }
   ],
   "source": [
    "# test_loss, test_acc = model.evaluate(X_test, y_test, verbose=2)\n",
    "score = model.evaluate(X_train, y_train, verbose=0)\n",
    "print('Train accuracy:', score[1])"
   ]
  },
  {
   "cell_type": "code",
   "execution_count": 43,
   "id": "a5711f2c",
   "metadata": {},
   "outputs": [],
   "source": [
    "# train_loss, traint_acc = model.evaluate(X_train, y_train, verbose=2)\n",
    "# score = model.evaluate(X_test, y_test, verbose=0)\n",
    "# print('Test accuracy:', score[1])"
   ]
  },
  {
   "cell_type": "code",
   "execution_count": null,
   "id": "761872b0",
   "metadata": {},
   "outputs": [],
   "source": []
  },
  {
   "cell_type": "code",
   "execution_count": 44,
   "id": "938b118b",
   "metadata": {},
   "outputs": [],
   "source": [
    "from sklearn.metrics import accuracy_score\n",
    "\n",
    "y_test = pd.read_csv('Test.csv')\n",
    "\n",
    "labels = y_test[\"ClassId\"].values\n",
    "imgs = y_test[\"Path\"].values\n",
    "\n",
    "data=[]"
   ]
  },
  {
   "cell_type": "code",
   "execution_count": null,
   "id": "4c727045",
   "metadata": {},
   "outputs": [],
   "source": []
  },
  {
   "cell_type": "code",
   "execution_count": 45,
   "id": "ab5890be",
   "metadata": {},
   "outputs": [],
   "source": [
    "for img in imgs:\n",
    "    image = Image.open(img)\n",
    "    image = image.resize((30,30))\n",
    "    data.append(np.array(image))\n",
    "\n",
    "X_test=np.array(data)\n",
    "\n",
    "pred = model.predict_classes(X_test)"
   ]
  },
  {
   "cell_type": "code",
   "execution_count": 46,
   "id": "77cec1d0",
   "metadata": {},
   "outputs": [
    {
     "data": {
      "text/plain": [
       "array([16,  1, 38, ..., 32,  7, 10], dtype=int64)"
      ]
     },
     "execution_count": 46,
     "metadata": {},
     "output_type": "execute_result"
    }
   ],
   "source": [
    "pred"
   ]
  },
  {
   "cell_type": "code",
   "execution_count": 47,
   "id": "bdf92f12",
   "metadata": {},
   "outputs": [
    {
     "name": "stdout",
     "output_type": "stream",
     "text": [
      "0.9338083927157561\n"
     ]
    }
   ],
   "source": [
    "from sklearn.metrics import accuracy_score\n",
    "print(accuracy_score(labels, pred))"
   ]
  },
  {
   "cell_type": "code",
   "execution_count": 48,
   "id": "7162a109",
   "metadata": {},
   "outputs": [
    {
     "data": {
      "image/png": "[encoded data removed]",
      "text/plain": [
       "<Figure size 432x288 with 1 Axes>"
      ]
     },
     "metadata": {
      "needs_background": "light"
     },
     "output_type": "display_data"
    }
   ],
   "source": [
    "from sklearn.metrics import confusion_matrix\n",
    "cm = confusion_matrix(labels, pred)\n",
    "cm = cm.astype('float') / cm.sum(axis=1)[:, np.newaxis]\n",
    "cm = np.log(.0001 + cm)\n",
    "plt.imshow(cm, interpolation='nearest', cmap=plt.cm.Blues)\n",
    "plt.title('Log of normalized Confusion Matrix')\n",
    "plt.ylabel('True label')\n",
    "plt.xlabel('Predicted label')\n",
    "plt.show()"
   ]
  },
  {
   "cell_type": "code",
   "execution_count": 49,
   "id": "48af2cf5",
   "metadata": {},
   "outputs": [
    {
     "name": "stdout",
     "output_type": "stream",
     "text": [
      "14\n"
     ]
    },
    {
     "data": {
      "image/png": "[encoded data removed]",
      "text/plain": [
       "<Figure size 432x288 with 1 Axes>"
      ]
     },
     "metadata": {
      "needs_background": "light"
     },
     "output_type": "display_data"
    }
   ],
   "source": [
    "plt.imshow(X_test[456]) \n",
    "\n",
    "classNo = int(model.predict_classes(X_test[456].reshape(1, 30, 30, 3)))\n",
    "print(classNo)"
   ]
  },
  {
   "cell_type": "code",
   "execution_count": 50,
   "id": "a6b126a5",
   "metadata": {},
   "outputs": [
    {
     "name": "stdout",
     "output_type": "stream",
     "text": [
      "The detected sign is Stop\n"
     ]
    }
   ],
   "source": [
    "def getCalssName(classNo):\n",
    "  if   classNo == 0: return 'Speed Limit 20 km/h'\n",
    "  elif classNo == 1: return 'Speed Limit 30 km/h'\n",
    "  elif classNo == 2: return 'Speed Limit 50 km/h'\n",
    "  elif classNo == 3: return 'Speed Limit 60 km/h'\n",
    "  elif classNo == 4: return 'Speed Limit 70 km/h'\n",
    "  elif classNo == 5: return 'Speed Limit 80 km/h'\n",
    "  elif classNo == 6: return 'End of Speed Limit 80 km/h'\n",
    "  elif classNo == 7: return 'Speed Limit 100 km/h'\n",
    "  elif classNo == 8: return 'Speed Limit 120 km/h'\n",
    "  elif classNo == 9: return 'No passing'\n",
    "  elif classNo == 10: return 'No passing for vechiles over 3.5 metric tons'\n",
    "  elif classNo == 11: return 'Right-of-way at the next intersection'\n",
    "  elif classNo == 12: return 'Priority road'\n",
    "  elif classNo == 13: return 'Yield'\n",
    "  elif classNo == 14: return 'Stop'\n",
    "  elif classNo == 15: return 'No vechiles'\n",
    "  elif classNo == 16: return 'Vechiles over 3.5 metric tons prohibited'\n",
    "  elif classNo == 17: return 'No entry'\n",
    "  elif classNo == 18: return 'General caution'\n",
    "  elif classNo == 19: return 'Dangerous curve to the left'\n",
    "  elif classNo == 20: return 'Dangerous curve to the right'\n",
    "  elif classNo == 21: return 'Double curve'\n",
    "  elif classNo == 22: return 'Bumpy road'\n",
    "  elif classNo == 23: return 'Slippery road'\n",
    "  elif classNo == 24: return 'Road narrows on the right'\n",
    "  elif classNo == 25: return 'Road work'\n",
    "  elif classNo == 26: return 'Traffic signals'\n",
    "  elif classNo == 27: return 'Pedestrians'\n",
    "  elif classNo == 28: return 'Children crossing'\n",
    "  elif classNo == 29: return 'Bicycles crossing'\n",
    "  elif classNo == 30: return 'Beware of ice/snow'\n",
    "  elif classNo == 31: return 'Wild animals crossing'\n",
    "  elif classNo == 32: return 'End of all speed and passing limits'\n",
    "  elif classNo == 33: return 'Turn right ahead'\n",
    "  elif classNo == 34: return 'Turn left ahead'\n",
    "  elif classNo == 35: return 'Ahead only'\n",
    "  elif classNo == 36: return 'Go straight or right'\n",
    "  elif classNo == 37: return 'Go straight or left'\n",
    "  elif classNo == 38: return 'Keep right'\n",
    "  elif classNo == 39: return 'Keep left'\n",
    "  elif classNo == 40: return 'Roundabout mandatory'\n",
    "  elif classNo == 41: return 'End of no passing'\n",
    "  elif classNo == 42: return 'End of no passing by vechiles over 3.5 metric tons'\n",
    "\n",
    "sign=getCalssName(classNo)\n",
    "print(\"The detected sign is {}\".format(sign))"
   ]
  },
  {
   "cell_type": "code",
   "execution_count": null,
   "id": "b6c6d297",
   "metadata": {},
   "outputs": [],
   "source": []
  },
  {
   "cell_type": "code",
   "execution_count": null,
   "id": "a8893746",
   "metadata": {},
   "outputs": [],
   "source": []
  }
 ],
 "metadata": {
  "kernelspec": {
   "display_name": "Python 3",
   "language": "python",
   "name": "python3"
  },
  "language_info": {
   "codemirror_mode": {
    "name": "ipython",
    "version": 3
   },
   "file_extension": ".py",
   "mimetype": "text/x-python",
   "name": "python",
   "nbconvert_exporter": "python",
   "pygments_lexer": "ipython3",
   "version": "3.7.10"
  }
 },
 "nbformat": 4,
 "nbformat_minor": 5
}
